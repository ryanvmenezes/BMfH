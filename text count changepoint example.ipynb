{
 "cells": [
  {
   "cell_type": "code",
   "execution_count": 1,
   "metadata": {},
   "outputs": [],
   "source": [
    "import numpy as np\n",
    "import matplotlib.pyplot as plt"
   ]
  },
  {
   "cell_type": "code",
   "execution_count": 2,
   "metadata": {},
   "outputs": [],
   "source": [
    "counts = np.loadtxt('data/txtdata.csv')"
   ]
  },
  {
   "cell_type": "code",
   "execution_count": 3,
   "metadata": {},
   "outputs": [
    {
     "data": {
      "text/plain": [
       "array([13., 24.,  8., 24.,  7., 35., 14., 11., 15., 11., 22., 22., 11.,\n",
       "       57., 11., 19., 29.,  6., 19., 12., 22., 12., 18., 72., 32.,  9.,\n",
       "        7., 13., 19., 23., 27., 20.,  6., 17., 13., 10., 14.,  6., 16.,\n",
       "       15.,  7.,  2., 15., 15., 19., 70., 49.,  7., 53., 22., 21., 31.,\n",
       "       19., 11., 18., 20., 12., 35., 17., 23., 17.,  4.,  2., 31., 30.,\n",
       "       13., 27.,  0., 39., 37.,  5., 14., 13., 22.])"
      ]
     },
     "execution_count": 3,
     "metadata": {},
     "output_type": "execute_result"
    }
   ],
   "source": [
    "counts"
   ]
  },
  {
   "cell_type": "code",
   "execution_count": 4,
   "metadata": {},
   "outputs": [
    {
     "data": {
      "text/plain": [
       "<BarContainer object of 74 artists>"
      ]
     },
     "execution_count": 4,
     "metadata": {},
     "output_type": "execute_result"
    },
    {
     "data": {
      "image/png": "[encoded data removed]",
      "text/plain": [
       "<Figure size 864x288 with 1 Axes>"
      ]
     },
     "metadata": {},
     "output_type": "display_data"
    }
   ],
   "source": [
    "ncounts = len(counts)\n",
    "plt.figure(figsize=(12,4))\n",
    "plt.bar(np.arange(ncounts), counts)"
   ]
  },
  {
   "cell_type": "code",
   "execution_count": 5,
   "metadata": {},
   "outputs": [],
   "source": [
    "import pymc as pm"
   ]
  },
  {
   "cell_type": "code",
   "execution_count": 6,
   "metadata": {},
   "outputs": [],
   "source": [
    "alpha = 1.0/counts.mean()"
   ]
  },
  {
   "cell_type": "code",
   "execution_count": 7,
   "metadata": {},
   "outputs": [
    {
     "data": {
      "text/plain": [
       "19.743243243243242"
      ]
     },
     "execution_count": 7,
     "metadata": {},
     "output_type": "execute_result"
    }
   ],
   "source": [
    "counts.mean()"
   ]
  },
  {
   "cell_type": "code",
   "execution_count": 8,
   "metadata": {},
   "outputs": [
    {
     "data": {
      "text/plain": [
       "0.05065023956194388"
      ]
     },
     "execution_count": 8,
     "metadata": {},
     "output_type": "execute_result"
    }
   ],
   "source": [
    "alpha"
   ]
  },
  {
   "cell_type": "code",
   "execution_count": 9,
   "metadata": {},
   "outputs": [],
   "source": [
    "lam1 = pm.Exponential('lam1', alpha)\n",
    "lam2 = pm.Exponential('lam2', alpha)"
   ]
  },
  {
   "cell_type": "code",
   "execution_count": 10,
   "metadata": {},
   "outputs": [
    {
     "name": "stdout",
     "output_type": "stream",
     "text": [
      "2.344585814518032 1.9455558063914922\n"
     ]
    }
   ],
   "source": [
    "print lam1.random(), lam2.random()"
   ]
  },
  {
   "cell_type": "code",
   "execution_count": 11,
   "metadata": {},
   "outputs": [],
   "source": [
    "tau = pm.DiscreteUniform('tau', 0, ncounts)"
   ]
  },
  {
   "cell_type": "code",
   "execution_count": 12,
   "metadata": {},
   "outputs": [
    {
     "name": "stdout",
     "output_type": "stream",
     "text": [
      "67 5\n"
     ]
    }
   ],
   "source": [
    "print tau.random(), tau.random()"
   ]
  },
  {
   "cell_type": "markdown",
   "metadata": {},
   "source": [
    "# Test\n",
    "\n",
    "Dummy run before function setup"
   ]
  },
  {
   "cell_type": "code",
   "execution_count": 13,
   "metadata": {},
   "outputs": [
    {
     "data": {
      "text/plain": [
       "74"
      ]
     },
     "execution_count": 13,
     "metadata": {},
     "output_type": "execute_result"
    }
   ],
   "source": [
    "ncounts"
   ]
  },
  {
   "cell_type": "code",
   "execution_count": 14,
   "metadata": {},
   "outputs": [],
   "source": [
    "out = np.zeros(ncounts)"
   ]
  },
  {
   "cell_type": "code",
   "execution_count": 15,
   "metadata": {},
   "outputs": [
    {
     "data": {
      "text/plain": [
       "array([0., 0., 0., 0., 0., 0., 0., 0., 0., 0., 0., 0., 0., 0., 0., 0., 0.,\n",
       "       0., 0., 0., 0., 0., 0., 0., 0., 0., 0., 0., 0., 0., 0., 0., 0., 0.,\n",
       "       0., 0., 0., 0., 0., 0., 0., 0., 0., 0., 0., 0., 0., 0., 0., 0., 0.,\n",
       "       0., 0., 0., 0., 0., 0., 0., 0., 0., 0., 0., 0., 0., 0., 0., 0., 0.,\n",
       "       0., 0., 0., 0., 0., 0.])"
      ]
     },
     "execution_count": 15,
     "metadata": {},
     "output_type": "execute_result"
    }
   ],
   "source": [
    "out"
   ]
  },
  {
   "cell_type": "code",
   "execution_count": 16,
   "metadata": {},
   "outputs": [],
   "source": [
    "tl1 = float(lam1.random())\n",
    "tl2 = float(lam2.random())\n",
    "ttau = int(tau.random())"
   ]
  },
  {
   "cell_type": "code",
   "execution_count": 17,
   "metadata": {},
   "outputs": [
    {
     "data": {
      "text/plain": [
       "15.808276851452032"
      ]
     },
     "execution_count": 17,
     "metadata": {},
     "output_type": "execute_result"
    }
   ],
   "source": [
    "tl1"
   ]
  },
  {
   "cell_type": "code",
   "execution_count": 18,
   "metadata": {},
   "outputs": [
    {
     "data": {
      "text/plain": [
       "43.22064286411755"
      ]
     },
     "execution_count": 18,
     "metadata": {},
     "output_type": "execute_result"
    }
   ],
   "source": [
    "tl2"
   ]
  },
  {
   "cell_type": "code",
   "execution_count": 19,
   "metadata": {},
   "outputs": [
    {
     "data": {
      "text/plain": [
       "55"
      ]
     },
     "execution_count": 19,
     "metadata": {},
     "output_type": "execute_result"
    }
   ],
   "source": [
    "ttau"
   ]
  },
  {
   "cell_type": "code",
   "execution_count": 20,
   "metadata": {},
   "outputs": [],
   "source": [
    "out[:ttau] = tl1"
   ]
  },
  {
   "cell_type": "code",
   "execution_count": 21,
   "metadata": {},
   "outputs": [],
   "source": [
    "out[ttau:] = tl2"
   ]
  },
  {
   "cell_type": "code",
   "execution_count": 22,
   "metadata": {},
   "outputs": [
    {
     "data": {
      "text/plain": [
       "array([15.80827685, 15.80827685, 15.80827685, 15.80827685, 15.80827685,\n",
       "       15.80827685, 15.80827685, 15.80827685, 15.80827685, 15.80827685,\n",
       "       15.80827685, 15.80827685, 15.80827685, 15.80827685, 15.80827685,\n",
       "       15.80827685, 15.80827685, 15.80827685, 15.80827685, 15.80827685,\n",
       "       15.80827685, 15.80827685, 15.80827685, 15.80827685, 15.80827685,\n",
       "       15.80827685, 15.80827685, 15.80827685, 15.80827685, 15.80827685,\n",
       "       15.80827685, 15.80827685, 15.80827685, 15.80827685, 15.80827685,\n",
       "       15.80827685, 15.80827685, 15.80827685, 15.80827685, 15.80827685,\n",
       "       15.80827685, 15.80827685, 15.80827685, 15.80827685, 15.80827685,\n",
       "       15.80827685, 15.80827685, 15.80827685, 15.80827685, 15.80827685,\n",
       "       15.80827685, 15.80827685, 15.80827685, 15.80827685, 15.80827685,\n",
       "       43.22064286, 43.22064286, 43.22064286, 43.22064286, 43.22064286,\n",
       "       43.22064286, 43.22064286, 43.22064286, 43.22064286, 43.22064286,\n",
       "       43.22064286, 43.22064286, 43.22064286, 43.22064286, 43.22064286,\n",
       "       43.22064286, 43.22064286, 43.22064286, 43.22064286])"
      ]
     },
     "execution_count": 22,
     "metadata": {},
     "output_type": "execute_result"
    }
   ],
   "source": [
    "out"
   ]
  },
  {
   "cell_type": "markdown",
   "metadata": {},
   "source": [
    "Since we pass in 74 different lambdas, it will calculate a var with each"
   ]
  },
  {
   "cell_type": "code",
   "execution_count": 23,
   "metadata": {},
   "outputs": [],
   "source": [
    "temp = pm.Poisson('obs', out)"
   ]
  },
  {
   "cell_type": "code",
   "execution_count": 24,
   "metadata": {},
   "outputs": [],
   "source": [
    "final = temp.random()"
   ]
  },
  {
   "cell_type": "code",
   "execution_count": 25,
   "metadata": {},
   "outputs": [
    {
     "data": {
      "text/plain": [
       "array([19, 19, 14, 14, 26, 17, 17, 19, 12, 13, 14, 12, 12, 14, 11, 11, 13,\n",
       "       15, 14, 27, 12, 17, 17, 15, 16, 22, 21,  8, 14, 16, 19, 14, 24, 20,\n",
       "       13, 15, 21, 12,  7, 19, 10, 13, 15, 18, 18,  9, 16, 21, 15, 15, 24,\n",
       "       16, 14, 23, 20, 37, 49, 31, 38, 41, 47, 49, 41, 33, 37, 43, 43, 38,\n",
       "       44, 41, 34, 49, 44, 41])"
      ]
     },
     "execution_count": 25,
     "metadata": {},
     "output_type": "execute_result"
    }
   ],
   "source": [
    "final"
   ]
  },
  {
   "cell_type": "code",
   "execution_count": 26,
   "metadata": {},
   "outputs": [
    {
     "data": {
      "text/plain": [
       "<matplotlib.lines.Line2D at 0x7f235e031d10>"
      ]
     },
     "execution_count": 26,
     "metadata": {},
     "output_type": "execute_result"
    },
    {
     "data": {
      "image/png": "[encoded data removed]",
      "text/plain": [
       "<Figure size 864x288 with 1 Axes>"
      ]
     },
     "metadata": {},
     "output_type": "display_data"
    }
   ],
   "source": [
    "nfinal = len(final)\n",
    "plt.figure(figsize=(12,4))\n",
    "plt.bar(np.arange(nfinal), final)\n",
    "plt.axvline(ttau - 0.5, color='red')"
   ]
  },
  {
   "cell_type": "markdown",
   "metadata": {},
   "source": [
    "# Real run"
   ]
  },
  {
   "cell_type": "code",
   "execution_count": 27,
   "metadata": {},
   "outputs": [],
   "source": [
    "@pm.deterministic\n",
    "def lambda_(tau=tau, lambda_1=lam1, lambda_2=lam2):\n",
    "    out = np.zeros(ncounts)\n",
    "    out[:tau] = lambda_1  # lambda before tau is lambda1\n",
    "    out[tau:] = lambda_2  # lambda after (and including) tau is lambda2\n",
    "    return out"
   ]
  },
  {
   "cell_type": "code",
   "execution_count": 28,
   "metadata": {},
   "outputs": [],
   "source": [
    "observation = pm.Poisson(\"obs\", lambda_, value=counts, observed=True)\n",
    "\n",
    "model = pm.Model([observation, lam1, lam2, tau])"
   ]
  },
  {
   "cell_type": "code",
   "execution_count": 29,
   "metadata": {},
   "outputs": [
    {
     "name": "stdout",
     "output_type": "stream",
     "text": [
      " [-----------------100%-----------------] 40000 of 40000 complete in 9.6 sec"
     ]
    }
   ],
   "source": [
    "# Mysterious code to be explained in Chapter 3.\n",
    "mcmc = pm.MCMC(model)\n",
    "mcmc.sample(40000, 10000, 1)"
   ]
  },
  {
   "cell_type": "code",
   "execution_count": 30,
   "metadata": {},
   "outputs": [],
   "source": [
    "lam1samp = mcmc.trace('lam1')[:]\n",
    "lam2samp = mcmc.trace('lam2')[:]\n",
    "tausamp = mcmc.trace('tau')[:]"
   ]
  },
  {
   "cell_type": "code",
   "execution_count": 32,
   "metadata": {},
   "outputs": [
    {
     "data": {
      "text/plain": [
       "(array([1.42857143e-04, 0.00000000e+00, 0.00000000e+00, 0.00000000e+00,\n",
       "        1.85714286e-03, 0.00000000e+00, 0.00000000e+00, 0.00000000e+00,\n",
       "        5.28571429e-03, 0.00000000e+00, 0.00000000e+00, 0.00000000e+00,\n",
       "        1.54571429e-01, 0.00000000e+00, 0.00000000e+00, 0.00000000e+00,\n",
       "        0.00000000e+00, 4.69571429e-01, 0.00000000e+00, 0.00000000e+00,\n",
       "        0.00000000e+00, 1.57114286e+00, 0.00000000e+00, 0.00000000e+00,\n",
       "        0.00000000e+00, 2.08300000e+00, 0.00000000e+00, 0.00000000e+00,\n",
       "        0.00000000e+00, 1.42857143e-04]),\n",
       " array([39.        , 39.23333333, 39.46666667, 39.7       , 39.93333333,\n",
       "        40.16666667, 40.4       , 40.63333333, 40.86666667, 41.1       ,\n",
       "        41.33333333, 41.56666667, 41.8       , 42.03333333, 42.26666667,\n",
       "        42.5       , 42.73333333, 42.96666667, 43.2       , 43.43333333,\n",
       "        43.66666667, 43.9       , 44.13333333, 44.36666667, 44.6       ,\n",
       "        44.83333333, 45.06666667, 45.3       , 45.53333333, 45.76666667,\n",
       "        46.        ]),\n",
       " <a list of 30 Patch objects>)"
      ]
     },
     "execution_count": 32,
     "metadata": {},
     "output_type": "execute_result"
    },
    {
     "data": {
      "image/png": "[encoded data removed]",
      "text/plain": [
       "<Figure size 1044x720 with 3 Axes>"
      ]
     },
     "metadata": {},
     "output_type": "display_data"
    }
   ],
   "source": [
    "plt.figure(figsize=(14.5, 10))\n",
    "\n",
    "ax = plt.subplot(311)\n",
    "plt.hist(lam1samp, bins=30, alpha=0.85, density=True)\n",
    "plt.xlim([15,26])\n",
    "plt.ylim([0,1])\n",
    "\n",
    "ax = plt.subplot(312)\n",
    "plt.hist(lam2samp, bins=30, alpha=0.85, density=True)\n",
    "plt.xlim([15,26])\n",
    "plt.ylim([0,1])\n",
    "\n",
    "ax = plt.subplot(313)\n",
    "plt.hist(tausamp, bins=30, alpha=0.85, density=True)"
   ]
  },
  {
   "cell_type": "code",
   "execution_count": null,
   "metadata": {},
   "outputs": [],
   "source": []
  },
  {
   "cell_type": "code",
   "execution_count": null,
   "metadata": {},
   "outputs": [],
   "source": []
  }
 ],
 "metadata": {
  "kernelspec": {
   "display_name": "Python 2",
   "language": "python",
   "name": "python2"
  },
  "language_info": {
   "codemirror_mode": {
    "name": "ipython",
    "version": 2
   },
   "file_extension": ".py",
   "mimetype": "text/x-python",
   "name": "python",
   "nbconvert_exporter": "python",
   "pygments_lexer": "ipython2",
   "version": "2.7.12"
  }
 },
 "nbformat": 4,
 "nbformat_minor": 2
}
