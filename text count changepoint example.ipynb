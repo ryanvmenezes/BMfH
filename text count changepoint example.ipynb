{
 "cells": [
  {
   "cell_type": "code",
   "execution_count": 1,
   "metadata": {},
   "outputs": [],
   "source": [
    "import numpy as np\n",
    "import matplotlib.pyplot as plt"
   ]
  },
  {
   "cell_type": "code",
   "execution_count": 2,
   "metadata": {},
   "outputs": [],
   "source": [
    "counts = np.loadtxt('data/txtdata.csv')"
   ]
  },
  {
   "cell_type": "code",
   "execution_count": 3,
   "metadata": {},
   "outputs": [
    {
     "data": {
      "text/plain": [
       "array([13., 24.,  8., 24.,  7., 35., 14., 11., 15., 11., 22., 22., 11.,\n",
       "       57., 11., 19., 29.,  6., 19., 12., 22., 12., 18., 72., 32.,  9.,\n",
       "        7., 13., 19., 23., 27., 20.,  6., 17., 13., 10., 14.,  6., 16.,\n",
       "       15.,  7.,  2., 15., 15., 19., 70., 49.,  7., 53., 22., 21., 31.,\n",
       "       19., 11., 18., 20., 12., 35., 17., 23., 17.,  4.,  2., 31., 30.,\n",
       "       13., 27.,  0., 39., 37.,  5., 14., 13., 22.])"
      ]
     },
     "execution_count": 3,
     "metadata": {},
     "output_type": "execute_result"
    }
   ],
   "source": [
    "counts"
   ]
  },
  {
   "cell_type": "code",
   "execution_count": 4,
   "metadata": {},
   "outputs": [
    {
     "data": {
      "text/plain": [
       "<BarContainer object of 74 artists>"
      ]
     },
     "execution_count": 4,
     "metadata": {},
     "output_type": "execute_result"
    },
    {
     "data": {
      "image/png": "[encoded data removed]",
      "text/plain": [
       "<Figure size 864x288 with 1 Axes>"
      ]
     },
     "metadata": {},
     "output_type": "display_data"
    }
   ],
   "source": [
    "ncounts = len(counts)\n",
    "plt.figure(figsize=(12,4))\n",
    "plt.bar(np.arange(ncounts), counts)"
   ]
  },
  {
   "cell_type": "markdown",
   "metadata": {},
   "source": [
    "# Set up prior distributions"
   ]
  },
  {
   "cell_type": "code",
   "execution_count": 5,
   "metadata": {},
   "outputs": [],
   "source": [
    "import pymc as pm"
   ]
  },
  {
   "cell_type": "code",
   "execution_count": 6,
   "metadata": {},
   "outputs": [],
   "source": [
    "alpha = 1.0/counts.mean()"
   ]
  },
  {
   "cell_type": "code",
   "execution_count": 7,
   "metadata": {},
   "outputs": [
    {
     "data": {
      "text/plain": [
       "19.743243243243242"
      ]
     },
     "execution_count": 7,
     "metadata": {},
     "output_type": "execute_result"
    }
   ],
   "source": [
    "counts.mean()"
   ]
  },
  {
   "cell_type": "code",
   "execution_count": 8,
   "metadata": {},
   "outputs": [
    {
     "data": {
      "text/plain": [
       "0.05065023956194388"
      ]
     },
     "execution_count": 8,
     "metadata": {},
     "output_type": "execute_result"
    }
   ],
   "source": [
    "alpha"
   ]
  },
  {
   "cell_type": "markdown",
   "metadata": {},
   "source": [
    "Exponentials to describe mean of the distribution at two different points"
   ]
  },
  {
   "cell_type": "code",
   "execution_count": 9,
   "metadata": {},
   "outputs": [],
   "source": [
    "lam1 = pm.Exponential('lam1', alpha)\n",
    "lam2 = pm.Exponential('lam2', alpha)"
   ]
  },
  {
   "cell_type": "code",
   "execution_count": 10,
   "metadata": {},
   "outputs": [
    {
     "name": "stdout",
     "output_type": "stream",
     "text": [
      "62.964852011967785 1.5054309518388556\n"
     ]
    }
   ],
   "source": [
    "print lam1.value, lam2.value"
   ]
  },
  {
   "cell_type": "markdown",
   "metadata": {},
   "source": [
    "Discrete uniform for the switchpoint"
   ]
  },
  {
   "cell_type": "code",
   "execution_count": 11,
   "metadata": {},
   "outputs": [],
   "source": [
    "tau = pm.DiscreteUniform('tau', 0, ncounts)"
   ]
  },
  {
   "cell_type": "code",
   "execution_count": 12,
   "metadata": {},
   "outputs": [
    {
     "name": "stdout",
     "output_type": "stream",
     "text": [
      "71\n"
     ]
    }
   ],
   "source": [
    "print tau.value"
   ]
  },
  {
   "cell_type": "markdown",
   "metadata": {},
   "source": [
    "# Test\n",
    "\n",
    "Dummy run before function setup"
   ]
  },
  {
   "cell_type": "code",
   "execution_count": 13,
   "metadata": {},
   "outputs": [
    {
     "data": {
      "text/plain": [
       "74"
      ]
     },
     "execution_count": 13,
     "metadata": {},
     "output_type": "execute_result"
    }
   ],
   "source": [
    "ncounts"
   ]
  },
  {
   "cell_type": "code",
   "execution_count": 14,
   "metadata": {},
   "outputs": [],
   "source": [
    "out = np.zeros(ncounts)"
   ]
  },
  {
   "cell_type": "code",
   "execution_count": 15,
   "metadata": {},
   "outputs": [
    {
     "data": {
      "text/plain": [
       "array([0., 0., 0., 0., 0., 0., 0., 0., 0., 0., 0., 0., 0., 0., 0., 0., 0.,\n",
       "       0., 0., 0., 0., 0., 0., 0., 0., 0., 0., 0., 0., 0., 0., 0., 0., 0.,\n",
       "       0., 0., 0., 0., 0., 0., 0., 0., 0., 0., 0., 0., 0., 0., 0., 0., 0.,\n",
       "       0., 0., 0., 0., 0., 0., 0., 0., 0., 0., 0., 0., 0., 0., 0., 0., 0.,\n",
       "       0., 0., 0., 0., 0., 0.])"
      ]
     },
     "execution_count": 15,
     "metadata": {},
     "output_type": "execute_result"
    }
   ],
   "source": [
    "out"
   ]
  },
  {
   "cell_type": "code",
   "execution_count": 16,
   "metadata": {},
   "outputs": [],
   "source": [
    "tl1 = float(lam1.random())\n",
    "tl2 = float(lam2.random())\n",
    "ttau = int(tau.random())"
   ]
  },
  {
   "cell_type": "code",
   "execution_count": 17,
   "metadata": {},
   "outputs": [
    {
     "data": {
      "text/plain": [
       "27.805335976690817"
      ]
     },
     "execution_count": 17,
     "metadata": {},
     "output_type": "execute_result"
    }
   ],
   "source": [
    "tl1"
   ]
  },
  {
   "cell_type": "code",
   "execution_count": 18,
   "metadata": {},
   "outputs": [
    {
     "data": {
      "text/plain": [
       "15.502512494266291"
      ]
     },
     "execution_count": 18,
     "metadata": {},
     "output_type": "execute_result"
    }
   ],
   "source": [
    "tl2"
   ]
  },
  {
   "cell_type": "code",
   "execution_count": 19,
   "metadata": {},
   "outputs": [
    {
     "data": {
      "text/plain": [
       "21"
      ]
     },
     "execution_count": 19,
     "metadata": {},
     "output_type": "execute_result"
    }
   ],
   "source": [
    "ttau"
   ]
  },
  {
   "cell_type": "code",
   "execution_count": 20,
   "metadata": {},
   "outputs": [],
   "source": [
    "out[:ttau] = tl1"
   ]
  },
  {
   "cell_type": "code",
   "execution_count": 21,
   "metadata": {},
   "outputs": [],
   "source": [
    "out[ttau:] = tl2"
   ]
  },
  {
   "cell_type": "code",
   "execution_count": 22,
   "metadata": {},
   "outputs": [
    {
     "data": {
      "text/plain": [
       "array([27.80533598, 27.80533598, 27.80533598, 27.80533598, 27.80533598,\n",
       "       27.80533598, 27.80533598, 27.80533598, 27.80533598, 27.80533598,\n",
       "       27.80533598, 27.80533598, 27.80533598, 27.80533598, 27.80533598,\n",
       "       27.80533598, 27.80533598, 27.80533598, 27.80533598, 27.80533598,\n",
       "       27.80533598, 15.50251249, 15.50251249, 15.50251249, 15.50251249,\n",
       "       15.50251249, 15.50251249, 15.50251249, 15.50251249, 15.50251249,\n",
       "       15.50251249, 15.50251249, 15.50251249, 15.50251249, 15.50251249,\n",
       "       15.50251249, 15.50251249, 15.50251249, 15.50251249, 15.50251249,\n",
       "       15.50251249, 15.50251249, 15.50251249, 15.50251249, 15.50251249,\n",
       "       15.50251249, 15.50251249, 15.50251249, 15.50251249, 15.50251249,\n",
       "       15.50251249, 15.50251249, 15.50251249, 15.50251249, 15.50251249,\n",
       "       15.50251249, 15.50251249, 15.50251249, 15.50251249, 15.50251249,\n",
       "       15.50251249, 15.50251249, 15.50251249, 15.50251249, 15.50251249,\n",
       "       15.50251249, 15.50251249, 15.50251249, 15.50251249, 15.50251249,\n",
       "       15.50251249, 15.50251249, 15.50251249, 15.50251249])"
      ]
     },
     "execution_count": 22,
     "metadata": {},
     "output_type": "execute_result"
    }
   ],
   "source": [
    "out"
   ]
  },
  {
   "cell_type": "markdown",
   "metadata": {},
   "source": [
    "Since we pass in 74 different lambdas, it will calculate a Poisson variable with each"
   ]
  },
  {
   "cell_type": "code",
   "execution_count": 23,
   "metadata": {},
   "outputs": [],
   "source": [
    "temp = pm.Poisson('obs', out)"
   ]
  },
  {
   "cell_type": "code",
   "execution_count": 24,
   "metadata": {},
   "outputs": [],
   "source": [
    "final = temp.random()"
   ]
  },
  {
   "cell_type": "code",
   "execution_count": 25,
   "metadata": {},
   "outputs": [
    {
     "data": {
      "text/plain": [
       "array([28, 26, 27, 34, 31, 37, 35, 25, 26, 32, 22, 25, 27, 41, 28, 19, 31,\n",
       "       28, 27, 30, 23, 18, 16,  8, 23, 10, 23, 19, 17, 16, 13, 21, 14, 21,\n",
       "       11, 12, 16, 15, 12, 12, 14, 13, 13, 11, 12, 15, 18, 13, 12, 20, 13,\n",
       "       19, 17, 16, 13, 15, 16, 13, 21, 12, 22, 13, 17, 17,  7, 16, 13, 17,\n",
       "       18, 17, 16, 13, 22, 13])"
      ]
     },
     "execution_count": 25,
     "metadata": {},
     "output_type": "execute_result"
    }
   ],
   "source": [
    "final"
   ]
  },
  {
   "cell_type": "code",
   "execution_count": 26,
   "metadata": {},
   "outputs": [
    {
     "data": {
      "text/plain": [
       "<matplotlib.lines.Line2D at 0x7f3d38301b10>"
      ]
     },
     "execution_count": 26,
     "metadata": {},
     "output_type": "execute_result"
    },
    {
     "data": {
      "image/png": "[encoded data removed]",
      "text/plain": [
       "<Figure size 864x288 with 1 Axes>"
      ]
     },
     "metadata": {},
     "output_type": "display_data"
    }
   ],
   "source": [
    "nfinal = len(final)\n",
    "plt.figure(figsize=(12,4))\n",
    "plt.bar(np.arange(nfinal), final)\n",
    "plt.axvline(ttau - 0.5, color='red')"
   ]
  },
  {
   "cell_type": "markdown",
   "metadata": {},
   "source": [
    "But let's fix observations\n",
    "\n",
    "How does this work?"
   ]
  },
  {
   "cell_type": "code",
   "execution_count": 27,
   "metadata": {
    "scrolled": true
   },
   "outputs": [
    {
     "data": {
      "text/plain": [
       "array([13., 24.,  8., 24.,  7., 35., 14., 11., 15., 11., 22., 22., 11.,\n",
       "       57., 11., 19., 29.,  6., 19., 12., 22., 12., 18., 72., 32.,  9.,\n",
       "        7., 13., 19., 23., 27., 20.,  6., 17., 13., 10., 14.,  6., 16.,\n",
       "       15.,  7.,  2., 15., 15., 19., 70., 49.,  7., 53., 22., 21., 31.,\n",
       "       19., 11., 18., 20., 12., 35., 17., 23., 17.,  4.,  2., 31., 30.,\n",
       "       13., 27.,  0., 39., 37.,  5., 14., 13., 22.])"
      ]
     },
     "execution_count": 27,
     "metadata": {},
     "output_type": "execute_result"
    }
   ],
   "source": [
    "counts"
   ]
  },
  {
   "cell_type": "code",
   "execution_count": 28,
   "metadata": {},
   "outputs": [],
   "source": [
    "obs = pm.Poisson(\"obs\", out, value=counts, observed=True)"
   ]
  },
  {
   "cell_type": "code",
   "execution_count": 29,
   "metadata": {},
   "outputs": [],
   "source": [
    "final = obs.random()"
   ]
  },
  {
   "cell_type": "code",
   "execution_count": 30,
   "metadata": {},
   "outputs": [
    {
     "data": {
      "text/plain": [
       "<matplotlib.lines.Line2D at 0x7f3d382240d0>"
      ]
     },
     "execution_count": 30,
     "metadata": {},
     "output_type": "execute_result"
    },
    {
     "data": {
      "image/png": "[encoded data removed]",
      "text/plain": [
       "<Figure size 864x288 with 1 Axes>"
      ]
     },
     "metadata": {},
     "output_type": "display_data"
    }
   ],
   "source": [
    "nfinal = len(final)\n",
    "plt.figure(figsize=(12,4))\n",
    "plt.bar(np.arange(nfinal), final)\n",
    "plt.axvline(ttau - 0.5, color='red')"
   ]
  },
  {
   "cell_type": "markdown",
   "metadata": {},
   "source": [
    "# Real run"
   ]
  },
  {
   "cell_type": "code",
   "execution_count": 31,
   "metadata": {},
   "outputs": [],
   "source": [
    "lam1 = pm.Exponential('lam1', alpha)\n",
    "lam2 = pm.Exponential('lam2', alpha)\n",
    "\n",
    "tau = pm.DiscreteUniform('tau', 0, ncounts)\n",
    "\n",
    "@pm.deterministic\n",
    "def lambda_(tau=tau, lambda_1=lam1, lambda_2=lam2):\n",
    "    out = np.zeros(ncounts)\n",
    "    out[:tau] = lambda_1  # lambda before tau is lambda1\n",
    "    out[tau:] = lambda_2  # lambda after (and including) tau is lambda2\n",
    "    return out\n",
    "\n",
    "observation = pm.Poisson(\"obs\", lambda_, value=counts, observed=True)\n",
    "\n",
    "model = pm.Model([observation, lam1, lam2, tau])"
   ]
  },
  {
   "cell_type": "code",
   "execution_count": 32,
   "metadata": {},
   "outputs": [
    {
     "name": "stdout",
     "output_type": "stream",
     "text": [
      " [-----------------100%-----------------] 40000 of 40000 complete in 7.4 sec"
     ]
    }
   ],
   "source": [
    "# Mysterious code to be explained in Chapter 3.\n",
    "mcmc = pm.MCMC(model)\n",
    "mcmc.sample(40000, 10000, 1)"
   ]
  },
  {
   "cell_type": "code",
   "execution_count": 33,
   "metadata": {},
   "outputs": [],
   "source": [
    "lam1samp = mcmc.trace('lam1')[:]\n",
    "lam2samp = mcmc.trace('lam2')[:]\n",
    "tausamp = mcmc.trace('tau')[:]"
   ]
  },
  {
   "cell_type": "code",
   "execution_count": 40,
   "metadata": {},
   "outputs": [
    {
     "data": {
      "text/plain": [
       "<matplotlib.lines.Line2D at 0x7f3d37e0c110>"
      ]
     },
     "execution_count": 40,
     "metadata": {},
     "output_type": "execute_result"
    },
    {
     "data": {
      "image/png": "[encoded data removed]",
      "text/plain": [
       "<Figure size 1044x720 with 3 Axes>"
      ]
     },
     "metadata": {},
     "output_type": "display_data"
    }
   ],
   "source": [
    "plt.figure(figsize=(14.5, 10))\n",
    "\n",
    "ax = plt.subplot(311)\n",
    "plt.hist(lam1samp, bins=30, alpha=0.85, density=True)\n",
    "plt.xlim([15,27])\n",
    "plt.ylim([0,1])\n",
    "plt.axvline(lam1samp.mean(), color='red')\n",
    "\n",
    "ax = plt.subplot(312)\n",
    "plt.hist(lam2samp, bins=30, alpha=0.85, density=True)\n",
    "plt.xlim([15,27])\n",
    "plt.ylim([0,1])\n",
    "plt.axvline(lam2samp.mean(), color='red')\n",
    "\n",
    "ax = plt.subplot(313)\n",
    "w = 1.0 / tausamp.shape[0] * np.ones_like(tausamp)\n",
    "plt.hist(tausamp, bins=ncounts, alpha=0.85, weights=w)\n",
    "plt.xlim([34, 54])\n",
    "plt.axvline(tausamp.mean(), color='red')"
   ]
  },
  {
   "cell_type": "code",
   "execution_count": 43,
   "metadata": {},
   "outputs": [
    {
     "data": {
      "text/plain": [
       "17.74604616855868"
      ]
     },
     "execution_count": 43,
     "metadata": {},
     "output_type": "execute_result"
    }
   ],
   "source": [
    "lam1samp.mean()"
   ]
  },
  {
   "cell_type": "code",
   "execution_count": 44,
   "metadata": {},
   "outputs": [
    {
     "data": {
      "text/plain": [
       "22.71548502873578"
      ]
     },
     "execution_count": 44,
     "metadata": {},
     "output_type": "execute_result"
    }
   ],
   "source": [
    "lam2samp.mean()"
   ]
  },
  {
   "cell_type": "code",
   "execution_count": 38,
   "metadata": {},
   "outputs": [
    {
     "data": {
      "text/plain": [
       "44.308233333333334"
      ]
     },
     "execution_count": 38,
     "metadata": {},
     "output_type": "execute_result"
    }
   ],
   "source": [
    "tausamp.mean()"
   ]
  },
  {
   "cell_type": "code",
   "execution_count": 45,
   "metadata": {},
   "outputs": [],
   "source": [
    "N = tausamp.shape[0]\n",
    "exptexts = np.empty(ncounts)\n",
    "\n",
    "for day in range(0, ncounts):\n",
    "    ix = day < tausamp\n",
    "    exptexts[day] = (lam1samp[ix].sum() + lam2samp[~ix].sum()) / N"
   ]
  },
  {
   "cell_type": "code",
   "execution_count": 42,
   "metadata": {},
   "outputs": [
    {
     "data": {
      "text/plain": [
       "array([17.74604617, 17.74604617, 17.74604617, 17.74604617, 17.74604617,\n",
       "       17.74604617, 17.74604617, 17.74604617, 17.74604617, 17.74604617,\n",
       "       17.74604617, 17.74604617, 17.74604617, 17.74604617, 17.74604617,\n",
       "       17.74604617, 17.74604617, 17.74604617, 17.74604617, 17.74604617,\n",
       "       17.74604617, 17.74604617, 17.74604617, 17.74604617, 17.74604617,\n",
       "       17.74604617, 17.74604617, 17.74604617, 17.74604617, 17.74604617,\n",
       "       17.74604617, 17.74604617, 17.74604617, 17.74604617, 17.74604617,\n",
       "       17.74604617, 17.74604617, 17.74604617, 17.74604617, 17.74614331,\n",
       "       17.74639628, 17.75174557, 17.91357516, 18.40742628, 20.21846199,\n",
       "       22.71523181, 22.71548503, 22.71548503, 22.71548503, 22.71548503,\n",
       "       22.71548503, 22.71548503, 22.71548503, 22.71548503, 22.71548503,\n",
       "       22.71548503, 22.71548503, 22.71548503, 22.71548503, 22.71548503,\n",
       "       22.71548503, 22.71548503, 22.71548503, 22.71548503, 22.71548503,\n",
       "       22.71548503, 22.71548503, 22.71548503, 22.71548503, 22.71548503,\n",
       "       22.71548503, 22.71548503, 22.71548503, 22.71548503])"
      ]
     },
     "execution_count": 42,
     "metadata": {},
     "output_type": "execute_result"
    }
   ],
   "source": [
    "exptexts"
   ]
  },
  {
   "cell_type": "code",
   "execution_count": 52,
   "metadata": {},
   "outputs": [
    {
     "data": {
      "text/plain": [
       "<matplotlib.legend.Legend at 0x7f3d37cefdd0>"
      ]
     },
     "execution_count": 52,
     "metadata": {},
     "output_type": "execute_result"
    },
    {
     "data": {
      "image/png": "[encoded data removed]",
      "text/plain": [
       "<Figure size 900x360 with 1 Axes>"
      ]
     },
     "metadata": {},
     "output_type": "display_data"
    }
   ],
   "source": [
    "plt.figure(figsize=(12.5, 5))\n",
    "\n",
    "plt.plot(range(ncounts), exptexts, lw=4, color='red', label='expected')\n",
    "plt.bar(np.arange(ncounts), counts, label='observed')\n",
    "plt.legend()"
   ]
  },
  {
   "cell_type": "code",
   "execution_count": null,
   "metadata": {},
   "outputs": [],
   "source": []
  }
 ],
 "metadata": {
  "kernelspec": {
   "display_name": "Python 2",
   "language": "python",
   "name": "python2"
  },
  "language_info": {
   "codemirror_mode": {
    "name": "ipython",
    "version": 2
   },
   "file_extension": ".py",
   "mimetype": "text/x-python",
   "name": "python",
   "nbconvert_exporter": "python",
   "pygments_lexer": "ipython2",
   "version": "2.7.12"
  }
 },
 "nbformat": 4,
 "nbformat_minor": 2
}
